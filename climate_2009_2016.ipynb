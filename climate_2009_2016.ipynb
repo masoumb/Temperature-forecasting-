{
 "cells": [
  {
   "cell_type": "markdown",
   "id": "32ed4576",
   "metadata": {},
   "source": [
    "# Time Series Forecasting\n",
    "\n",
    "Time series forecasting refers to predicting an output over a sequence of time. Through\n",
    "analyzing past trends, different techniques of machine learning are being developed to predict\n",
    "the future. Time series forecasting is a difficult type of predictive modeling problem. The\n",
    "complexity comes from the fact that there is a sequence dependency among the input variables\n",
    "of time series data. There are 4 different types of time series data as seasonal, cyclical, seasonal and irregular.\n",
    "Depending on the data and its quantity, an appropriate model has to be selected for forecasting a time series data. \n"
   ]
  },
  {
   "cell_type": "markdown",
   "id": "40ad97b8",
   "metadata": {},
   "source": [
    "## Objective\n",
    "\n",
    "In this work, univariate weather forecasting model is developed. \n",
    "The Weather Dataset is a time-series dataset with per-hour information about the weather condition at a particular location. \n",
    "\n",
    "In this notebook, I am practicing my skills in:\n",
    "* Panda/Python\n",
    "Advanced machine learning models:\n",
    "* Long Short Term Memory(LSTM) \n",
    "* Gated Recurrent Units(GRU)\n",
    "* Convolutional Neural Network (CNN)"
   ]
  },
  {
   "cell_type": "markdown",
   "id": "fe7936c3",
   "metadata": {},
   "source": [
    "## Resources\n",
    "\n",
    "* The data for this notebook can be found at Kaggle (https://www.kaggle.com/datasets/mnassrib/jena-climate?select=jena_climate_2009_2016.csv)\n",
    "* A tutorial from Greg Hugg using this dataset can be found in you Tube (https://www.youtube.com/watch?v=kGdbPnMCdOg&t=1510s)\n"
   ]
  },
  {
   "cell_type": "markdown",
   "id": "458eb186",
   "metadata": {},
   "source": [
    "## Content\n",
    "\n",
    "* Libraries & Packages\n",
    "* Data Preperation\n",
    "* Long Short Term Memory(LSTM)\n",
    "* Avanced Machine Learning Models \n",
    "   - Gated Recurrent Units(GRU)\n",
    "   - Convolutional Neural Network (CNN)"
   ]
  },
  {
   "cell_type": "markdown",
   "id": "745ea02a",
   "metadata": {},
   "source": [
    "## Libraries and Packages "
   ]
  },
  {
   "cell_type": "code",
   "execution_count": 16,
   "id": "0c6a3d44",
   "metadata": {},
   "outputs": [],
   "source": [
    "import pandas as pd\n",
    "import numpy as np\n",
    "import scipy\n",
    "import matplotlib.pyplot as plt\n",
    "import sklearn\n",
    "from keras.models import Sequential\n",
    "from keras.layers import Dense, Dropout, LSTM, GRU\n",
    "from tensorflow.keras.models import Sequential\n",
    "from tensorflow.keras import layers\n",
    "from tensorflow.keras.callbacks import ModelCheckpoint\n",
    "from tensorflow.keras.losses import MeanSquaredError\n",
    "from tensorflow.keras.optimizers import Adam\n",
    "import tensorflow as tf\n",
    "import os\n",
    "from sklearn.metrics import mean_squared_error as mse\n",
    "from tensorflow.keras.layers import Conv1D\n",
    "from keras.layers import Conv2D, MaxPooling2D, Flatten, Dense"
   ]
  },
  {
   "cell_type": "code",
   "execution_count": 17,
   "id": "734eb719",
   "metadata": {},
   "outputs": [],
   "source": [
    "df = pd.read_csv(\"jena_climate_2009_2016.csv\")"
   ]
  },
  {
   "cell_type": "code",
   "execution_count": 18,
   "id": "ff7b499a",
   "metadata": {},
   "outputs": [
    {
     "data": {
      "text/html": [
       "<div>\n",
       "<style scoped>\n",
       "    .dataframe tbody tr th:only-of-type {\n",
       "        vertical-align: middle;\n",
       "    }\n",
       "\n",
       "    .dataframe tbody tr th {\n",
       "        vertical-align: top;\n",
       "    }\n",
       "\n",
       "    .dataframe thead th {\n",
       "        text-align: right;\n",
       "    }\n",
       "</style>\n",
       "<table border=\"1\" class=\"dataframe\">\n",
       "  <thead>\n",
       "    <tr style=\"text-align: right;\">\n",
       "      <th></th>\n",
       "      <th>Date Time</th>\n",
       "      <th>p (mbar)</th>\n",
       "      <th>T (degC)</th>\n",
       "      <th>Tpot (K)</th>\n",
       "      <th>Tdew (degC)</th>\n",
       "      <th>rh (%)</th>\n",
       "      <th>VPmax (mbar)</th>\n",
       "      <th>VPact (mbar)</th>\n",
       "      <th>VPdef (mbar)</th>\n",
       "      <th>sh (g/kg)</th>\n",
       "      <th>H2OC (mmol/mol)</th>\n",
       "      <th>rho (g/m**3)</th>\n",
       "      <th>wv (m/s)</th>\n",
       "      <th>max. wv (m/s)</th>\n",
       "      <th>wd (deg)</th>\n",
       "    </tr>\n",
       "  </thead>\n",
       "  <tbody>\n",
       "    <tr>\n",
       "      <th>0</th>\n",
       "      <td>01.01.2009 00:10:00</td>\n",
       "      <td>996.52</td>\n",
       "      <td>-8.02</td>\n",
       "      <td>265.40</td>\n",
       "      <td>-8.90</td>\n",
       "      <td>93.3</td>\n",
       "      <td>3.33</td>\n",
       "      <td>3.11</td>\n",
       "      <td>0.22</td>\n",
       "      <td>1.94</td>\n",
       "      <td>3.12</td>\n",
       "      <td>1307.75</td>\n",
       "      <td>1.03</td>\n",
       "      <td>1.75</td>\n",
       "      <td>152.3</td>\n",
       "    </tr>\n",
       "    <tr>\n",
       "      <th>1</th>\n",
       "      <td>01.01.2009 00:20:00</td>\n",
       "      <td>996.57</td>\n",
       "      <td>-8.41</td>\n",
       "      <td>265.01</td>\n",
       "      <td>-9.28</td>\n",
       "      <td>93.4</td>\n",
       "      <td>3.23</td>\n",
       "      <td>3.02</td>\n",
       "      <td>0.21</td>\n",
       "      <td>1.89</td>\n",
       "      <td>3.03</td>\n",
       "      <td>1309.80</td>\n",
       "      <td>0.72</td>\n",
       "      <td>1.50</td>\n",
       "      <td>136.1</td>\n",
       "    </tr>\n",
       "    <tr>\n",
       "      <th>2</th>\n",
       "      <td>01.01.2009 00:30:00</td>\n",
       "      <td>996.53</td>\n",
       "      <td>-8.51</td>\n",
       "      <td>264.91</td>\n",
       "      <td>-9.31</td>\n",
       "      <td>93.9</td>\n",
       "      <td>3.21</td>\n",
       "      <td>3.01</td>\n",
       "      <td>0.20</td>\n",
       "      <td>1.88</td>\n",
       "      <td>3.02</td>\n",
       "      <td>1310.24</td>\n",
       "      <td>0.19</td>\n",
       "      <td>0.63</td>\n",
       "      <td>171.6</td>\n",
       "    </tr>\n",
       "    <tr>\n",
       "      <th>3</th>\n",
       "      <td>01.01.2009 00:40:00</td>\n",
       "      <td>996.51</td>\n",
       "      <td>-8.31</td>\n",
       "      <td>265.12</td>\n",
       "      <td>-9.07</td>\n",
       "      <td>94.2</td>\n",
       "      <td>3.26</td>\n",
       "      <td>3.07</td>\n",
       "      <td>0.19</td>\n",
       "      <td>1.92</td>\n",
       "      <td>3.08</td>\n",
       "      <td>1309.19</td>\n",
       "      <td>0.34</td>\n",
       "      <td>0.50</td>\n",
       "      <td>198.0</td>\n",
       "    </tr>\n",
       "    <tr>\n",
       "      <th>4</th>\n",
       "      <td>01.01.2009 00:50:00</td>\n",
       "      <td>996.51</td>\n",
       "      <td>-8.27</td>\n",
       "      <td>265.15</td>\n",
       "      <td>-9.04</td>\n",
       "      <td>94.1</td>\n",
       "      <td>3.27</td>\n",
       "      <td>3.08</td>\n",
       "      <td>0.19</td>\n",
       "      <td>1.92</td>\n",
       "      <td>3.09</td>\n",
       "      <td>1309.00</td>\n",
       "      <td>0.32</td>\n",
       "      <td>0.63</td>\n",
       "      <td>214.3</td>\n",
       "    </tr>\n",
       "  </tbody>\n",
       "</table>\n",
       "</div>"
      ],
      "text/plain": [
       "             Date Time  p (mbar)  T (degC)  Tpot (K)  Tdew (degC)  rh (%)  \\\n",
       "0  01.01.2009 00:10:00    996.52     -8.02    265.40        -8.90    93.3   \n",
       "1  01.01.2009 00:20:00    996.57     -8.41    265.01        -9.28    93.4   \n",
       "2  01.01.2009 00:30:00    996.53     -8.51    264.91        -9.31    93.9   \n",
       "3  01.01.2009 00:40:00    996.51     -8.31    265.12        -9.07    94.2   \n",
       "4  01.01.2009 00:50:00    996.51     -8.27    265.15        -9.04    94.1   \n",
       "\n",
       "   VPmax (mbar)  VPact (mbar)  VPdef (mbar)  sh (g/kg)  H2OC (mmol/mol)  \\\n",
       "0          3.33          3.11          0.22       1.94             3.12   \n",
       "1          3.23          3.02          0.21       1.89             3.03   \n",
       "2          3.21          3.01          0.20       1.88             3.02   \n",
       "3          3.26          3.07          0.19       1.92             3.08   \n",
       "4          3.27          3.08          0.19       1.92             3.09   \n",
       "\n",
       "   rho (g/m**3)  wv (m/s)  max. wv (m/s)  wd (deg)  \n",
       "0       1307.75      1.03           1.75     152.3  \n",
       "1       1309.80      0.72           1.50     136.1  \n",
       "2       1310.24      0.19           0.63     171.6  \n",
       "3       1309.19      0.34           0.50     198.0  \n",
       "4       1309.00      0.32           0.63     214.3  "
      ]
     },
     "execution_count": 18,
     "metadata": {},
     "output_type": "execute_result"
    }
   ],
   "source": [
    "df.head()"
   ]
  },
  {
   "cell_type": "code",
   "execution_count": 19,
   "id": "6776a760",
   "metadata": {},
   "outputs": [],
   "source": [
    "# Let's take data of only every hour instead of including all data of every 10 minutes\n",
    "df = df[5::6]\n",
    "df.index = pd.to_datetime(df['Date Time'], format = \"%d.%m.%Y %H:%M:%S\")\n",
    "temp = df['T (degC)']"
   ]
  },
  {
   "cell_type": "code",
   "execution_count": 20,
   "id": "f97a45ff",
   "metadata": {},
   "outputs": [
    {
     "data": {
      "text/plain": [
       "Date Time\n",
       "2009-01-01 01:00:00   -8.05\n",
       "2009-01-01 02:00:00   -8.88\n",
       "2009-01-01 03:00:00   -8.81\n",
       "2009-01-01 04:00:00   -9.05\n",
       "2009-01-01 05:00:00   -9.63\n",
       "Name: T (degC), dtype: float64"
      ]
     },
     "execution_count": 20,
     "metadata": {},
     "output_type": "execute_result"
    }
   ],
   "source": [
    "temp.head()"
   ]
  },
  {
   "cell_type": "markdown",
   "id": "ef94d76b",
   "metadata": {},
   "source": [
    "## Data Preperation (for advance models forecasting)\n",
    "\n",
    "Before machine learning can be used, time series forecasting problems must be re-framed as supervised learning problems. \n",
    "From a sequence to pairs of input and output sequences. "
   ]
  },
  {
   "cell_type": "code",
   "execution_count": 21,
   "id": "28aed5c3",
   "metadata": {},
   "outputs": [],
   "source": [
    "def prepare_data(df, step):\n",
    "    df_as_numpy = df.to_numpy()\n",
    "    x=[]\n",
    "    y=[]\n",
    "    for i in range(len(df_as_numpy)-step):\n",
    "        rows = [[a] for a in df_as_numpy[i:i+step]]\n",
    "        x.append(rows)\n",
    "        label = df_as_numpy[i+step]\n",
    "        y.append(label)\n",
    "    return np.array(x), np.array(y)"
   ]
  },
  {
   "cell_type": "code",
   "execution_count": 22,
   "id": "5f8c4752",
   "metadata": {},
   "outputs": [],
   "source": [
    "x1, y1 = prepare_data(temp, 5)"
   ]
  },
  {
   "cell_type": "code",
   "execution_count": 23,
   "id": "647489f6",
   "metadata": {},
   "outputs": [],
   "source": [
    "def train_val_test_data(x, y, df):\n",
    "    train = int(len(x)*0.7)\n",
    "    val = int(len(x)*0.85)\n",
    "    test = int(len(x))\n",
    "\n",
    "    x_train, y_train = x[:train], y[:train]\n",
    "    x_val, y_val = x[train:val], y[train:val]\n",
    "    x_test, y_test = x[val:test], y[val:test]\n",
    "\n",
    "\n",
    "    dates_train = df[0:train]\n",
    "    dates_val = df[train:val]\n",
    "    dates_test = df[val:test]\n",
    "    \n",
    "    return x_train, y_train, x_val, y_val, x_test, y_test"
   ]
  },
  {
   "cell_type": "code",
   "execution_count": 24,
   "id": "d35da62d",
   "metadata": {},
   "outputs": [],
   "source": [
    "x_train1, y_train1, x_val1, y_val1, x_test1, y_test1 = train_val_test_data(x1, y1, temp)"
   ]
  },
  {
   "cell_type": "markdown",
   "id": "a77c615d",
   "metadata": {},
   "source": [
    "## Advance Machine Learning Model"
   ]
  },
  {
   "cell_type": "markdown",
   "id": "49a5cdd5",
   "metadata": {},
   "source": [
    "## Recurrent Neural Network Models (RNNs)\n",
    "### Long Short-Term Memory (LSTM)\n",
    "\n",
    "- Long Short-Term Memory (LSTM) is a type of Recurrent Neural Network (RNN) model developed due to the vanishing gradient problem in traditional RNNs. LSTM method is used to capture long term dependencies and non-linear patterns in the data. LSTM models are trained according to backpropagation through time which reduces the vanishing gradient problem to optimize the network parameters. \n",
    "- LSTM networks contain memory cells that allow them to retain information over time. Each LSTM cell has 3 gates as forget gate, input gate and output gate. Through forget gate, it will forget unimportant information since it determines which information is considered as important information. In the input gate new information will be added to the LSTM cell. The output gate also provides us with the final prediction of model. LSTM can be successfully directed for multivariate time series forecasting. Due to its liability to retain the information over long sequence of data, "
   ]
  },
  {
   "cell_type": "code",
   "execution_count": 25,
   "id": "5c531130",
   "metadata": {},
   "outputs": [],
   "source": [
    "def LSTM_Forecasting(x_train, y_train, x_val, y_val, x_test):\n",
    "    model = Sequential()\n",
    "    model.add(LSTM(units = 64, return_sequences=True, input_shape=(x_train.shape[1], x_train.shape[2])))\n",
    "    model.add(LSTM(units = 64, return_sequences=True))\n",
    "    model.add(LSTM(units = 64))\n",
    "    model.add(Dense(units = 32, activation = 'linear'))\n",
    "    model.add(Dense(1)) \n",
    "    \n",
    "    model.compile(loss='mse',\n",
    "                   optimizer=Adam(learning_rate=0.0001),\n",
    "                   metrics=['mean_absolute_error'])\n",
    "    \n",
    "    model.fit(x_train, y_train, validation_data=(x_val, y_val), epochs=10)\n",
    "    model.summary()\n",
    "    \n",
    "    forecast = model.predict(x_test).flatten()    \n",
    "    \n",
    "    return forecast"
   ]
  },
  {
   "cell_type": "code",
   "execution_count": 26,
   "id": "a67000ca",
   "metadata": {
    "scrolled": false
   },
   "outputs": [
    {
     "name": "stdout",
     "output_type": "stream",
     "text": [
      "WARNING:tensorflow:From C:\\Users\\Hamid.Azizi\\AppData\\Local\\anaconda3\\Lib\\site-packages\\keras\\src\\backend.py:873: The name tf.get_default_graph is deprecated. Please use tf.compat.v1.get_default_graph instead.\n",
      "\n",
      "Epoch 1/10\n",
      "WARNING:tensorflow:From C:\\Users\\Hamid.Azizi\\AppData\\Local\\anaconda3\\Lib\\site-packages\\keras\\src\\utils\\tf_utils.py:492: The name tf.ragged.RaggedTensorValue is deprecated. Please use tf.compat.v1.ragged.RaggedTensorValue instead.\n",
      "\n",
      "WARNING:tensorflow:From C:\\Users\\Hamid.Azizi\\AppData\\Local\\anaconda3\\Lib\\site-packages\\keras\\src\\engine\\base_layer_utils.py:384: The name tf.executing_eagerly_outside_functions is deprecated. Please use tf.compat.v1.executing_eagerly_outside_functions instead.\n",
      "\n",
      "1534/1534 [==============================] - 15s 7ms/step - loss: 17.2049 - mean_absolute_error: 2.5212 - val_loss: 1.9531 - val_mean_absolute_error: 0.9516\n",
      "Epoch 2/10\n",
      "1534/1534 [==============================] - 9s 6ms/step - loss: 1.5609 - mean_absolute_error: 0.8499 - val_loss: 1.0383 - val_mean_absolute_error: 0.6755\n",
      "Epoch 3/10\n",
      "1534/1534 [==============================] - 9s 6ms/step - loss: 1.0612 - mean_absolute_error: 0.6995 - val_loss: 0.8907 - val_mean_absolute_error: 0.6376\n",
      "Epoch 4/10\n",
      "1534/1534 [==============================] - 9s 6ms/step - loss: 0.8465 - mean_absolute_error: 0.6311 - val_loss: 0.8018 - val_mean_absolute_error: 0.6053\n",
      "Epoch 5/10\n",
      "1534/1534 [==============================] - 9s 6ms/step - loss: 0.7731 - mean_absolute_error: 0.6043 - val_loss: 0.8244 - val_mean_absolute_error: 0.6289\n",
      "Epoch 6/10\n",
      "1534/1534 [==============================] - 9s 6ms/step - loss: 0.7258 - mean_absolute_error: 0.5848 - val_loss: 0.6926 - val_mean_absolute_error: 0.5615\n",
      "Epoch 7/10\n",
      "1534/1534 [==============================] - 9s 6ms/step - loss: 0.6916 - mean_absolute_error: 0.5689 - val_loss: 0.6796 - val_mean_absolute_error: 0.5496\n",
      "Epoch 8/10\n",
      "1534/1534 [==============================] - 9s 6ms/step - loss: 0.6713 - mean_absolute_error: 0.5603 - val_loss: 0.6723 - val_mean_absolute_error: 0.5520\n",
      "Epoch 9/10\n",
      "1534/1534 [==============================] - 9s 6ms/step - loss: 0.6573 - mean_absolute_error: 0.5517 - val_loss: 0.6578 - val_mean_absolute_error: 0.5466\n",
      "Epoch 10/10\n",
      "1534/1534 [==============================] - 9s 6ms/step - loss: 0.6522 - mean_absolute_error: 0.5501 - val_loss: 0.6869 - val_mean_absolute_error: 0.5650\n",
      "Model: \"sequential\"\n",
      "_________________________________________________________________\n",
      " Layer (type)                Output Shape              Param #   \n",
      "=================================================================\n",
      " lstm (LSTM)                 (None, 5, 64)             16896     \n",
      "                                                                 \n",
      " lstm_1 (LSTM)               (None, 5, 64)             33024     \n",
      "                                                                 \n",
      " lstm_2 (LSTM)               (None, 64)                33024     \n",
      "                                                                 \n",
      " dense (Dense)               (None, 32)                2080      \n",
      "                                                                 \n",
      " dense_1 (Dense)             (None, 1)                 33        \n",
      "                                                                 \n",
      "=================================================================\n",
      "Total params: 85057 (332.25 KB)\n",
      "Trainable params: 85057 (332.25 KB)\n",
      "Non-trainable params: 0 (0.00 Byte)\n",
      "_________________________________________________________________\n",
      "329/329 [==============================] - 2s 2ms/step\n"
     ]
    }
   ],
   "source": [
    "lstm_forecast = LSTM_Forecasting(x_train1, y_train1, x_val1, y_val1, x_test1)"
   ]
  },
  {
   "cell_type": "code",
   "execution_count": 27,
   "id": "7ff3ed46",
   "metadata": {},
   "outputs": [],
   "source": [
    "def plot_lstm_prediction(lstm_forecast, y , start=0, end=100):\n",
    "    results = pd.DataFrame(data={'Predictions':lstm_forecast, 'Actuals':y})\n",
    "    plt.plot(results['Predictions'][start:end])\n",
    "    plt.plot(results['Actuals'][start:end])\n",
    "    \n",
    "    return results, mse(lstm_forecast, y)"
   ]
  },
  {
   "cell_type": "code",
   "execution_count": 28,
   "id": "ef9cf391",
   "metadata": {},
   "outputs": [
    {
     "data": {
      "text/plain": [
       "(       Predictions  Actuals\n",
       " 0         6.358713     6.47\n",
       " 1         6.319620     6.39\n",
       " 2         6.219374     6.43\n",
       " 3         6.324751     6.15\n",
       " 4         5.893490     6.26\n",
       " ...            ...      ...\n",
       " 10508    -1.019910    -0.98\n",
       " 10509    -1.564273    -1.40\n",
       " 10510    -1.764653    -2.75\n",
       " 10511    -3.277001    -2.89\n",
       " 10512    -3.204315    -3.93\n",
       " \n",
       " [10513 rows x 2 columns],\n",
       " 0.5863102029547349)"
      ]
     },
     "execution_count": 28,
     "metadata": {},
     "output_type": "execute_result"
    },
    {
     "data": {
      "image/png": "[encoded data removed]",
      "text/plain": [
       "<Figure size 640x480 with 1 Axes>"
      ]
     },
     "metadata": {},
     "output_type": "display_data"
    }
   ],
   "source": [
    "plot_lstm_prediction(lstm_forecast, y_test1)"
   ]
  },
  {
   "cell_type": "markdown",
   "id": "9aa920ec",
   "metadata": {},
   "source": [
    "### Gated Recurrent Unit (GRU) Model\n",
    "\n",
    "- LSTM model is particularly applicable for time series forecasting including stock market forecasting. However, they require a large amount of data and can be computationally very expensive to use. Gated Recurrent Unit (GRU) is a type of RNNs and simpler variation of LSTM model with simpler architecture aimed to decrease the computational complexity and memory requirements of LSTM networks. GRU network contains fewer parameters and update gate and reset gate. The flow of information is controlled through how much of the previously hidden information to keep and how much new information to include. Thus, the combination of input and forget gate from LSTM has been converted into one update gate. Despite its similarities to LSTM, GRU is demonstrated to achieve similar performance as LSTM."
   ]
  },
  {
   "cell_type": "code",
   "execution_count": 29,
   "id": "eba060be",
   "metadata": {},
   "outputs": [],
   "source": [
    "def GRU_Forecasting(x_train, y_train, x_val, y_val, x_test):\n",
    "    model = Sequential()\n",
    "    model.add(GRU(units = 64, return_sequences=True, input_shape=(x_train.shape[1], x_train.shape[2])))\n",
    "    model.add(GRU(units = 64, return_sequences=True))\n",
    "    model.add(GRU(units = 64))\n",
    "    model.add(Dense(units = 32, activation = 'linear'))\n",
    "    model.add(Dense(1)) \n",
    "    \n",
    "    model.compile(loss='mse',\n",
    "                   optimizer=Adam(learning_rate=0.0001),\n",
    "                   metrics=['mean_absolute_error'])\n",
    "    \n",
    "    model.fit(x_train, y_train, validation_data=(x_val, y_val), epochs=10)\n",
    "    model.summary()\n",
    "    \n",
    "    forecast = model.predict(x_test).flatten()    \n",
    "    \n",
    "    return forecast"
   ]
  },
  {
   "cell_type": "code",
   "execution_count": 30,
   "id": "f88e604b",
   "metadata": {},
   "outputs": [
    {
     "name": "stdout",
     "output_type": "stream",
     "text": [
      "Epoch 1/10\n",
      "1534/1534 [==============================] - 14s 6ms/step - loss: 14.3707 - mean_absolute_error: 2.0031 - val_loss: 1.2186 - val_mean_absolute_error: 0.6936\n",
      "Epoch 2/10\n",
      "1534/1534 [==============================] - 9s 6ms/step - loss: 0.9020 - mean_absolute_error: 0.6416 - val_loss: 0.7944 - val_mean_absolute_error: 0.5926\n",
      "Epoch 3/10\n",
      "1534/1534 [==============================] - 8s 6ms/step - loss: 0.7392 - mean_absolute_error: 0.5879 - val_loss: 0.7255 - val_mean_absolute_error: 0.5798\n",
      "Epoch 4/10\n",
      "1534/1534 [==============================] - 9s 6ms/step - loss: 0.6847 - mean_absolute_error: 0.5657 - val_loss: 0.6778 - val_mean_absolute_error: 0.5486\n",
      "Epoch 5/10\n",
      "1534/1534 [==============================] - 9s 6ms/step - loss: 0.6624 - mean_absolute_error: 0.5547 - val_loss: 0.6673 - val_mean_absolute_error: 0.5440\n",
      "Epoch 6/10\n",
      "1534/1534 [==============================] - 9s 6ms/step - loss: 0.6571 - mean_absolute_error: 0.5530 - val_loss: 0.7862 - val_mean_absolute_error: 0.6261\n",
      "Epoch 7/10\n",
      "1534/1534 [==============================] - 9s 6ms/step - loss: 0.6570 - mean_absolute_error: 0.5538 - val_loss: 0.6787 - val_mean_absolute_error: 0.5517\n",
      "Epoch 8/10\n",
      "1534/1534 [==============================] - 9s 6ms/step - loss: 0.6519 - mean_absolute_error: 0.5497 - val_loss: 0.6663 - val_mean_absolute_error: 0.5499\n",
      "Epoch 9/10\n",
      "1534/1534 [==============================] - 9s 6ms/step - loss: 0.6560 - mean_absolute_error: 0.5527 - val_loss: 0.6598 - val_mean_absolute_error: 0.5447\n",
      "Epoch 10/10\n",
      "1534/1534 [==============================] - 8s 6ms/step - loss: 0.6518 - mean_absolute_error: 0.5496 - val_loss: 0.6584 - val_mean_absolute_error: 0.5428\n",
      "Model: \"sequential_1\"\n",
      "_________________________________________________________________\n",
      " Layer (type)                Output Shape              Param #   \n",
      "=================================================================\n",
      " gru (GRU)                   (None, 5, 64)             12864     \n",
      "                                                                 \n",
      " gru_1 (GRU)                 (None, 5, 64)             24960     \n",
      "                                                                 \n",
      " gru_2 (GRU)                 (None, 64)                24960     \n",
      "                                                                 \n",
      " dense_2 (Dense)             (None, 32)                2080      \n",
      "                                                                 \n",
      " dense_3 (Dense)             (None, 1)                 33        \n",
      "                                                                 \n",
      "=================================================================\n",
      "Total params: 64897 (253.50 KB)\n",
      "Trainable params: 64897 (253.50 KB)\n",
      "Non-trainable params: 0 (0.00 Byte)\n",
      "_________________________________________________________________\n",
      "329/329 [==============================] - 2s 2ms/step\n"
     ]
    }
   ],
   "source": [
    "gru_forecast = GRU_Forecasting(x_train1, y_train1, x_val1, y_val1, x_test1)"
   ]
  },
  {
   "cell_type": "code",
   "execution_count": 31,
   "id": "63c8492a",
   "metadata": {},
   "outputs": [],
   "source": [
    "def plot_gru_prediction(gru_forecast, y , start=0, end=100):\n",
    "    results = pd.DataFrame(data={'Predictions':gru_forecast, 'Actuals':y})\n",
    "    plt.plot(results['Predictions'][start:end])\n",
    "    plt.plot(results['Actuals'][start:end])\n",
    "    \n",
    "    return results, mse(gru_forecast, y)"
   ]
  },
  {
   "cell_type": "code",
   "execution_count": 32,
   "id": "84caca18",
   "metadata": {},
   "outputs": [
    {
     "data": {
      "text/plain": [
       "(       Predictions  Actuals\n",
       " 0         6.568927     6.47\n",
       " 1         6.541241     6.39\n",
       " 2         6.430118     6.43\n",
       " 3         6.525275     6.15\n",
       " 4         6.102142     6.26\n",
       " ...            ...      ...\n",
       " 10508    -1.322740    -0.98\n",
       " 10509    -1.427955    -1.40\n",
       " 10510    -1.523229    -2.75\n",
       " 10511    -3.147815    -2.89\n",
       " 10512    -3.207841    -3.93\n",
       " \n",
       " [10513 rows x 2 columns],\n",
       " 0.5557065727005259)"
      ]
     },
     "execution_count": 32,
     "metadata": {},
     "output_type": "execute_result"
    },
    {
     "data": {
      "image/png": "[encoded data removed]",
      "text/plain": [
       "<Figure size 640x480 with 1 Axes>"
      ]
     },
     "metadata": {},
     "output_type": "display_data"
    }
   ],
   "source": [
    "plot_gru_prediction(gru_forecast, y_test1)"
   ]
  },
  {
   "cell_type": "markdown",
   "id": "08fa8470",
   "metadata": {},
   "source": [
    "## Concolutional Neural Network (1d-CNN)\n",
    "\n",
    "- CNNs (Convolutional Neural Networks) are primarily associated with image processing tasks, but they have also been applied to time series forecasting with some success. The effectiveness of CNNs for time series forecasting depends on factors like the complexity of the data "
   ]
  },
  {
   "cell_type": "code",
   "execution_count": 33,
   "id": "d649e2e7",
   "metadata": {},
   "outputs": [],
   "source": [
    "def CNN_Forecasting(x_train, y_train, x_val, y_val, x_test):\n",
    "    model = Sequential()\n",
    "    model.add(Conv1D(filters = 64, kernel_size = 3, input_shape = (x_train.shape[1], x_train.shape[2])))\n",
    "    model.add(Flatten())\n",
    "    \n",
    "    model.add(Dense(8, activation='relu'))\n",
    "    model.add(Dense(1))  \n",
    "    \n",
    "    model.compile(loss='mse',\n",
    "                   optimizer=Adam(learning_rate=0.0001),\n",
    "                   metrics=['mean_absolute_error'])\n",
    "    \n",
    "    model.fit(x_train, y_train, validation_data=(x_val, y_val), epochs=10)\n",
    "    model.summary()\n",
    "    \n",
    "    forecast = model.predict(x_test).flatten()\n",
    "    \n",
    "    return forecast"
   ]
  },
  {
   "cell_type": "code",
   "execution_count": 34,
   "id": "75e1571b",
   "metadata": {},
   "outputs": [
    {
     "name": "stdout",
     "output_type": "stream",
     "text": [
      "Epoch 1/10\n",
      "1534/1534 [==============================] - 3s 1ms/step - loss: 6.1781 - mean_absolute_error: 1.5844 - val_loss: 1.9010 - val_mean_absolute_error: 0.9650\n",
      "Epoch 2/10\n",
      "1534/1534 [==============================] - 2s 1ms/step - loss: 1.4338 - mean_absolute_error: 0.8336 - val_loss: 1.1640 - val_mean_absolute_error: 0.7468\n",
      "Epoch 3/10\n",
      "1534/1534 [==============================] - 2s 1ms/step - loss: 1.0163 - mean_absolute_error: 0.6948 - val_loss: 0.9016 - val_mean_absolute_error: 0.6478\n",
      "Epoch 4/10\n",
      "1534/1534 [==============================] - 2s 1ms/step - loss: 0.8303 - mean_absolute_error: 0.6235 - val_loss: 0.7847 - val_mean_absolute_error: 0.5987\n",
      "Epoch 5/10\n",
      "1534/1534 [==============================] - 2s 1ms/step - loss: 0.7495 - mean_absolute_error: 0.5895 - val_loss: 0.7505 - val_mean_absolute_error: 0.5825\n",
      "Epoch 6/10\n",
      "1534/1534 [==============================] - 2s 1ms/step - loss: 0.7109 - mean_absolute_error: 0.5718 - val_loss: 0.7103 - val_mean_absolute_error: 0.5655\n",
      "Epoch 7/10\n",
      "1534/1534 [==============================] - 2s 1ms/step - loss: 0.6925 - mean_absolute_error: 0.5631 - val_loss: 0.6940 - val_mean_absolute_error: 0.5559\n",
      "Epoch 8/10\n",
      "1534/1534 [==============================] - 2s 1ms/step - loss: 0.6832 - mean_absolute_error: 0.5583 - val_loss: 0.6961 - val_mean_absolute_error: 0.5536\n",
      "Epoch 9/10\n",
      "1534/1534 [==============================] - 2s 1ms/step - loss: 0.6779 - mean_absolute_error: 0.5546 - val_loss: 0.6889 - val_mean_absolute_error: 0.5498\n",
      "Epoch 10/10\n",
      "1534/1534 [==============================] - 2s 1ms/step - loss: 0.6793 - mean_absolute_error: 0.5561 - val_loss: 0.6868 - val_mean_absolute_error: 0.5488\n",
      "Model: \"sequential_2\"\n",
      "_________________________________________________________________\n",
      " Layer (type)                Output Shape              Param #   \n",
      "=================================================================\n",
      " conv1d (Conv1D)             (None, 3, 64)             256       \n",
      "                                                                 \n",
      " flatten (Flatten)           (None, 192)               0         \n",
      "                                                                 \n",
      " dense_4 (Dense)             (None, 8)                 1544      \n",
      "                                                                 \n",
      " dense_5 (Dense)             (None, 1)                 9         \n",
      "                                                                 \n",
      "=================================================================\n",
      "Total params: 1809 (7.07 KB)\n",
      "Trainable params: 1809 (7.07 KB)\n",
      "Non-trainable params: 0 (0.00 Byte)\n",
      "_________________________________________________________________\n",
      "329/329 [==============================] - 0s 869us/step\n"
     ]
    }
   ],
   "source": [
    "cnn_forecast = CNN_Forecasting(x_train1, y_train1, x_val1, y_val1, x_test1)"
   ]
  },
  {
   "cell_type": "code",
   "execution_count": 35,
   "id": "4ccb7f38",
   "metadata": {},
   "outputs": [],
   "source": [
    "def plot_cnn_prediction(cnn_forecast, y , start=0, end=100):\n",
    "    results = pd.DataFrame(data={'Predictions':cnn_forecast, 'Actuals':y})\n",
    "    plt.plot(results['Predictions'][start:end])\n",
    "    plt.plot(results['Actuals'][start:end])\n",
    "    \n",
    "    return results, mse(cnn_forecast, y)"
   ]
  },
  {
   "cell_type": "code",
   "execution_count": 36,
   "id": "54628d6f",
   "metadata": {},
   "outputs": [
    {
     "data": {
      "text/plain": [
       "(       Predictions  Actuals\n",
       " 0         6.556070     6.47\n",
       " 1         6.517912     6.39\n",
       " 2         6.420717     6.43\n",
       " 3         6.510497     6.15\n",
       " 4         6.108691     6.26\n",
       " ...            ...      ...\n",
       " 10508    -1.439851    -0.98\n",
       " 10509    -1.687100    -1.40\n",
       " 10510    -1.579757    -2.75\n",
       " 10511    -3.098475    -2.89\n",
       " 10512    -3.194112    -3.93\n",
       " \n",
       " [10513 rows x 2 columns],\n",
       " 0.5845767724248272)"
      ]
     },
     "execution_count": 36,
     "metadata": {},
     "output_type": "execute_result"
    },
    {
     "data": {
      "image/png": "[encoded data removed]",
      "text/plain": [
       "<Figure size 640x480 with 1 Axes>"
      ]
     },
     "metadata": {},
     "output_type": "display_data"
    }
   ],
   "source": [
    "plot_cnn_prediction(cnn_forecast, y_test1)"
   ]
  },
  {
   "cell_type": "markdown",
   "id": "76e7f5bf",
   "metadata": {},
   "source": [
    "## Conclusion\n",
    "- Comparison of the models for forecasting the time series weather dataset show GRU model performs better due to less error as sompared with CNN and LSTM models. \n",
    "- For univariate dataset, there is no need to use the complex LSTM model as compared with GRU. \n",
    "- In the future work, I will focus on comparing the various machine learning models in their forecasting efficiency depending on the complexity of data. Multivariate forecasting wll be investigated as a result to evaluate the effect of complexity of data on model selection.  "
   ]
  }
 ],
 "metadata": {
  "kernelspec": {
   "display_name": "Python 3 (ipykernel)",
   "language": "python",
   "name": "python3"
  },
  "language_info": {
   "codemirror_mode": {
    "name": "ipython",
    "version": 3
   },
   "file_extension": ".py",
   "mimetype": "text/x-python",
   "name": "python",
   "nbconvert_exporter": "python",
   "pygments_lexer": "ipython3",
   "version": "3.11.5"
  }
 },
 "nbformat": 4,
 "nbformat_minor": 5
}
